{
 "cells": [
  {
   "cell_type": "code",
   "execution_count": 1,
   "metadata": {},
   "outputs": [],
   "source": [
    "# CALCULADORA SIMPLES EM PYTOHN\n",
    "\n",
    "\n",
    "#Funções da calculadora\n",
    "\n",
    "def multiplicacao(num1, num2):\n",
    "    return num1*num2\n",
    "\n",
    "def soma(num1, num2):\n",
    "    return num1+num2\n",
    "\n",
    "def subtracao(num1, num2):\n",
    "    return num1-num2\n",
    "\n",
    "def divisao(num1, num2):\n",
    "    return num1/num2\n",
    "\n",
    "# Match Case em python\n",
    "\n",
    "def calculadora(opcao, num1, num2):\n",
    "    match opcao:\n",
    "        case '1':\n",
    "            return soma(num1, num2)\n",
    "        case '2':\n",
    "            return subtracao(num1, num2)\n",
    "        case '3':\n",
    "            return multiplicacao(num1, num2)\n",
    "        case '4':\n",
    "            return divisao(num1, num2)\n",
    "        case _:\n",
    "            return 'Opção inválida ou incorreta, tente novamente.'\n",
    "\n"
   ]
  }
 ],
 "metadata": {
  "kernelspec": {
   "display_name": ".venv",
   "language": "python",
   "name": "python3"
  },
  "language_info": {
   "codemirror_mode": {
    "name": "ipython",
    "version": 3
   },
   "file_extension": ".py",
   "mimetype": "text/x-python",
   "name": "python",
   "nbconvert_exporter": "python",
   "pygments_lexer": "ipython3",
   "version": "3.12.4"
  }
 },
 "nbformat": 4,
 "nbformat_minor": 2
}
